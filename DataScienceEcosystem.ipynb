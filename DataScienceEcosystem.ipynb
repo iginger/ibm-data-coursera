{
 "cells": [
  {
   "cell_type": "markdown",
   "id": "d94a74e0-2d4f-406b-9241-af51b9cc50ba",
   "metadata": {},
   "source": [
    "<h1>Data Science Tools and Ecosystem</h1>"
   ]
  },
  {
   "cell_type": "markdown",
   "id": "17003378-59f9-4283-95e3-9f054216e23f",
   "metadata": {},
   "source": [
    "<h2>Author</h2>\n",
    "<p>Jeremy</p>"
   ]
  },
  {
   "cell_type": "markdown",
   "id": "62f9bd1d-571c-48c7-89c2-daa3b5ff0e76",
   "metadata": {},
   "source": [
    "In this notebook, Data Science Tools and Ecosystem are summarized."
   ]
  },
  {
   "cell_type": "markdown",
   "id": "9d37d3c6-7abf-455a-9c0a-30916c45d6c5",
   "metadata": {},
   "source": [
    "<b>Objectives:</b>\n",
    "<ul>\n",
    "    <li>Some of the popular languages that Data Scientists</li>\n",
    "    <li>Some of the commonly used libraries used by Data Scientists include</li>\n",
    "    <li>Data Science Tools</li>\n",
    "</ul>"
   ]
  },
  {
   "cell_type": "markdown",
   "id": "d8cd7453-5ed8-4895-b313-f10ead0ec97f",
   "metadata": {},
   "source": [
    "Some of the popular languages that Data Scientists use are:\n",
    "<ol>\n",
    "    <li>python</li>\n",
    "    <li>R</li>\n",
    "    <li>SQL</li>\n",
    "</ol>"
   ]
  },
  {
   "cell_type": "markdown",
   "id": "e7d8287d-ec59-4ddc-9925-e9ed1e75a293",
   "metadata": {},
   "source": [
    "Some of the commonly used libraries used by Data Scientists include:\n",
    "<ol>\n",
    "    <li>Matplotlib</li>\n",
    "    <li>NumPy</li>\n",
    "    <li>SciPy</li>\n",
    "</ol>"
   ]
  },
  {
   "cell_type": "markdown",
   "id": "9e19e251-6128-4f19-8060-bfb4e95bafde",
   "metadata": {},
   "source": [
    "<div style=\"float:left\">\n",
    "<table>\n",
    "    <tr>\n",
    "       <th>Data Science Tools</th>\n",
    "    </tr>\n",
    "    <tr>\n",
    "       <td>jupyter notebook</td>\n",
    "    </tr>\n",
    "    <tr>\n",
    "       <td>R studio</td>\n",
    "    </tr>\n",
    "    <tr>\n",
    "       <td>Spyder</td>\n",
    "    <tr>\n",
    "</table> \n",
    "</div>"
   ]
  },
  {
   "cell_type": "markdown",
   "id": "34afd270-0a3b-4bdf-bb20-76c36cb35080",
   "metadata": {},
   "source": [
    "<h3>Below are a few examples of evaluating arithmetic expressions in Python</h3>"
   ]
  },
  {
   "cell_type": "code",
   "execution_count": 5,
   "id": "fb56ec5d-2963-4862-97b2-4d0e86de52de",
   "metadata": {},
   "outputs": [
    {
     "data": {
      "text/plain": [
       "17"
      ]
     },
     "execution_count": 5,
     "metadata": {},
     "output_type": "execute_result"
    }
   ],
   "source": [
    "# This a simple arithmetic expression to mutiply then add integers\n",
    "(3*4)+5"
   ]
  },
  {
   "cell_type": "code",
   "execution_count": 6,
   "id": "df696ff0-c416-4915-a470-590bcaf87c2e",
   "metadata": {},
   "outputs": [
    {
     "name": "stdout",
     "output_type": "stream",
     "text": [
      "3.3333333333333335\n"
     ]
    }
   ],
   "source": [
    "#This will convert 200 minutes to hours by diving by 60\n",
    "minutes = 200\n",
    "hours = minutes / 60\n",
    "print(hours)"
   ]
  },
  {
   "cell_type": "code",
   "execution_count": null,
   "id": "cca24402-7566-447a-8353-b2d131c6c8f1",
   "metadata": {},
   "outputs": [],
   "source": []
  }
 ],
 "metadata": {
  "kernelspec": {
   "display_name": "Python 3 (ipykernel)",
   "language": "python",
   "name": "python3"
  },
  "language_info": {
   "codemirror_mode": {
    "name": "ipython",
    "version": 3
   },
   "file_extension": ".py",
   "mimetype": "text/x-python",
   "name": "python",
   "nbconvert_exporter": "python",
   "pygments_lexer": "ipython3",
   "version": "3.11.5"
  }
 },
 "nbformat": 4,
 "nbformat_minor": 5
}
